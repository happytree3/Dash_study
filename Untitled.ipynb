{
 "cells": [
  {
   "cell_type": "code",
   "execution_count": null,
   "id": "db95e69d-9c50-457f-8464-d54f5b62279b",
   "metadata": {},
   "outputs": [],
   "source": [
    "from jupyter_dash import JupyterDash\n",
    "from dash import Dash, dcc, html, Input, Output\n",
    "import plotly.express as px\n",
    "import pandas as pd"
   ]
  },
  {
   "cell_type": "code",
   "execution_count": null,
   "id": "4908d2d3-438f-47f7-b533-073ddda463ff",
   "metadata": {},
   "outputs": [],
   "source": [
    "app = JupyterDash(__name__)\n",
    "\n",
    "image_src = 'C:/Users/yoo95/Desktop/키워드모델.JPG'  # 절대 경로\n",
    "\n",
    "image = html.Img(src=image_src)\n",
    "\n",
    "app.layout = html.Div(children=[image])\n",
    "\n",
    "if __name__ == '__main__':\n",
    "    app.run_server(port=7788)"
   ]
  },
  {
   "cell_type": "code",
   "execution_count": null,
   "id": "f0c220c4-c635-463e-af07-d9ace8501503",
   "metadata": {},
   "outputs": [],
   "source": [
    "app = JupyterDash(__name__)\n",
    "\n",
    "app.layout = html.Div(\n",
    "    children=[\n",
    "        html.Div(\n",
    "            children=[\n",
    "            ]\n",
    "        ),\n",
    "        html.Div(\n",
    "            children=[\n",
    "            ]\n",
    "        )\n",
    "    ])\n",
    "\n"
   ]
  },
  {
   "cell_type": "code",
   "execution_count": null,
   "id": "8d9a9318-ad01-4c95-89a2-8cf6b469b6e1",
   "metadata": {},
   "outputs": [],
   "source": []
  },
  {
   "cell_type": "code",
   "execution_count": null,
   "id": "bf3c9b54-393c-40d0-ada0-a6a7c19556ca",
   "metadata": {},
   "outputs": [],
   "source": []
  }
 ],
 "metadata": {
  "kernelspec": {
   "display_name": "Python 3 (ipykernel)",
   "language": "python",
   "name": "python3"
  },
  "language_info": {
   "codemirror_mode": {
    "name": "ipython",
    "version": 3
   },
   "file_extension": ".py",
   "mimetype": "text/x-python",
   "name": "python",
   "nbconvert_exporter": "python",
   "pygments_lexer": "ipython3",
   "version": "3.9.13"
  }
 },
 "nbformat": 4,
 "nbformat_minor": 5
}
