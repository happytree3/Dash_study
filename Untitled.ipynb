{
 "cells": [
  {
   "cell_type": "code",
   "execution_count": 1,
   "id": "502a102b-fc0d-4b86-8067-1aca0e7c6c7d",
   "metadata": {},
   "outputs": [],
   "source": [
    "from dash import Dash, dcc, html, Input, Output\n",
    "import plotly.express as px\n",
    "import pandas as pd\n",
    "\n",
    "from jupyter_dash import JupyterDash"
   ]
  },
  {
   "cell_type": "code",
   "execution_count": 3,
   "id": "4c57e195-eca6-49fe-8d05-9235d99f4067",
   "metadata": {},
   "outputs": [
    {
     "ename": "NameError",
     "evalue": "name 'make_page_event_sale' is not defined",
     "output_type": "error",
     "traceback": [
      "\u001b[1;31m---------------------------------------------------------------------------\u001b[0m",
      "\u001b[1;31mNameError\u001b[0m                                 Traceback (most recent call last)",
      "\u001b[1;32m~\\AppData\\Local\\Temp\\ipykernel_12376\\3450105950.py\u001b[0m in \u001b[0;36m<module>\u001b[1;34m\u001b[0m\n\u001b[0;32m     10\u001b[0m             children=[\n\u001b[0;32m     11\u001b[0m                 html.Div(\n\u001b[1;32m---> 12\u001b[1;33m                     \u001b[0mchildren\u001b[0m\u001b[1;33m=\u001b[0m \u001b[0mmake_page_event_sale\u001b[0m\u001b[1;33m(\u001b[0m\u001b[0mdf\u001b[0m\u001b[1;33m.\u001b[0m\u001b[0mcopy\u001b[0m\u001b[1;33m(\u001b[0m\u001b[1;33m)\u001b[0m\u001b[1;33m)\u001b[0m\u001b[1;33m\u001b[0m\u001b[1;33m\u001b[0m\u001b[0m\n\u001b[0m\u001b[0;32m     13\u001b[0m                     \u001b[1;33m,\u001b[0m\u001b[1;33m\u001b[0m\u001b[1;33m\u001b[0m\u001b[0m\n\u001b[0;32m     14\u001b[0m                     \u001b[0mstyle\u001b[0m\u001b[1;33m=\u001b[0m\u001b[1;33m{\u001b[0m\u001b[1;34m'width'\u001b[0m\u001b[1;33m:\u001b[0m \u001b[1;34m'50%'\u001b[0m\u001b[1;33m,\u001b[0m \u001b[1;34m'height'\u001b[0m\u001b[1;33m:\u001b[0m \u001b[1;34m'100%'\u001b[0m\u001b[1;33m}\u001b[0m\u001b[1;33m\u001b[0m\u001b[1;33m\u001b[0m\u001b[0m\n",
      "\u001b[1;31mNameError\u001b[0m: name 'make_page_event_sale' is not defined"
     ]
    }
   ],
   "source": [
    "# Dash 앱 생성\n",
    "app = JupyterDash(__name__)\n",
    "\n",
    "\n",
    " #style={'display': 'flex'})\n",
    "# 레이아웃 구성\n",
    "app.layout = html.Div(\n",
    "    children=[\n",
    "        html.Div(\n",
    "            children=[\n",
    "                html.Div(\n",
    "                    children= make_page_event_sale(df.copy())  \n",
    "                    ,\n",
    "                    style={'width': '50%', 'height': '100%'}  \n",
    "                ),\n",
    "                html.Div(\n",
    "                    children=[\n",
    "                        html.H2('우측 영역'),  \n",
    "                    ],\n",
    "                    style={'width': '50%', 'height': '100%'}\n",
    "                ),\n",
    "                html.Div(\n",
    "                    children=[\n",
    "                        html.H2('페이지 내용 설명 공간'), \n",
    "                    ],\n",
    "                    style={'width': '50%', 'height': '100%'} \n",
    "                )\n",
    "            ],\n",
    "            style={'display': 'flex'}\n",
    "        ),\n",
    "        html.Div(\n",
    "            children=[\n",
    "                html.Div(\n",
    "                    children= make_page_repurchase(df.copy())  # 우측 영역\n",
    "                    ,\n",
    "                    style={'width': '50%', 'height': '100%'}  # 좌측 영역 스타일\n",
    "                ),\n",
    "                html.Div(\n",
    "                    children= make_page_new_customer_sales()  # 우측 영역\n",
    "                    ,\n",
    "                    style={'width': '50%', 'height': '100%'}  # 우측 영역 스타일\n",
    "                ),\n",
    "            ],\n",
    "            style={'display': 'flex'}  # 좌측과 우측 영역을 가로로 배치하기 위한 스타일\n",
    "        ),\n",
    "    ],\n",
    "    style={'display': 'flex', 'flex-direction': 'column', 'height': '100vh'}  # 전체 레이아웃을 세로로 배치하기 위한 스타일\n",
    ")\n",
    "if __name__ == '__main__':\n",
    "        app.run_server(port =7779,mode = 'inline')"
   ]
  },
  {
   "cell_type": "code",
   "execution_count": 6,
   "id": "96e93037-e57e-43a7-9a82-ad2829b931d1",
   "metadata": {},
   "outputs": [
    {
     "name": "stdout",
     "output_type": "stream",
     "text": [
      "Dash is running on http://127.0.0.1:8051/\n",
      "\n"
     ]
    },
    {
     "data": {
      "text/html": [
       "\n",
       "        <iframe\n",
       "            width=\"100%\"\n",
       "            height=\"650\"\n",
       "            src=\"http://127.0.0.1:8051/\"\n",
       "            frameborder=\"0\"\n",
       "            allowfullscreen\n",
       "            \n",
       "        ></iframe>\n",
       "        "
      ],
      "text/plain": [
       "<IPython.lib.display.IFrame at 0x1f2408282b0>"
      ]
     },
     "metadata": {},
     "output_type": "display_data"
    }
   ],
   "source": [
    "app1 = JupyterDash(__name__)\n",
    "\n",
    "app1.layout = html.Div([\n",
    "    html.H1('대시보드 1'),\n",
    "    dcc.Dropdown(\n",
    "        id='dropdown1',\n",
    "        options=[\n",
    "            {'label': '옵션 1', 'value': 'option1'},\n",
    "            {'label': '옵션 2', 'value': 'option2'}\n",
    "        ],\n",
    "        value='option1'\n",
    "    ),\n",
    "    html.Div(id='output1')\n",
    "])\n",
    "\n",
    "@app1.callback(\n",
    "    Output('output1', 'children'),\n",
    "    Input('dropdown1', 'value')\n",
    ")\n",
    "def update_output1(value):\n",
    "    return f'선택된 값: {value}'\n",
    "\n",
    "if __name__ == '__main__':\n",
    "    app1.run_server(mode='inline', port=8051)\n"
   ]
  },
  {
   "cell_type": "code",
   "execution_count": null,
   "id": "39213722-0c86-4b8d-98a8-a172bf9ab5ba",
   "metadata": {},
   "outputs": [],
   "source": []
  }
 ],
 "metadata": {
  "kernelspec": {
   "display_name": "Python 3 (ipykernel)",
   "language": "python",
   "name": "python3"
  },
  "language_info": {
   "codemirror_mode": {
    "name": "ipython",
    "version": 3
   },
   "file_extension": ".py",
   "mimetype": "text/x-python",
   "name": "python",
   "nbconvert_exporter": "python",
   "pygments_lexer": "ipython3",
   "version": "3.9.13"
  }
 },
 "nbformat": 4,
 "nbformat_minor": 5
}
