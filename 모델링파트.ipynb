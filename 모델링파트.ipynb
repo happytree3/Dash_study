{
 "cells": [
  {
   "cell_type": "code",
   "execution_count": 1,
   "id": "d033c196-7b7b-40e0-902d-8a13d0132910",
   "metadata": {},
   "outputs": [],
   "source": [
    "from jupyter_dash import JupyterDash\n",
    "from dash import Dash, dcc, html, Input, Output\n",
    "import plotly.express as px\n",
    "import pandas as pd"
   ]
  },
  {
   "cell_type": "code",
   "execution_count": 7,
   "id": "e2095694-806d-49a3-97b4-2832dfcb4b1d",
   "metadata": {},
   "outputs": [],
   "source": [
    "import base64\n",
    "import dash\n",
    "import dash_core_components as dcc\n",
    "import dash_html_components as html"
   ]
  },
  {
   "cell_type": "code",
   "execution_count": 28,
   "id": "cad459f4-2374-46a6-a05f-62088a2a8e13",
   "metadata": {},
   "outputs": [
    {
     "name": "stdout",
     "output_type": "stream",
     "text": [
      "Dash is running on http://127.0.0.1:7790/\n",
      "\n"
     ]
    },
    {
     "data": {
      "text/html": [
       "\n",
       "        <iframe\n",
       "            width=\"100%\"\n",
       "            height=\"650\"\n",
       "            src=\"http://127.0.0.1:7790/\"\n",
       "            frameborder=\"0\"\n",
       "            allowfullscreen\n",
       "            \n",
       "        ></iframe>\n",
       "        "
      ],
      "text/plain": [
       "<IPython.lib.display.IFrame at 0x1e65636afd0>"
      ]
     },
     "metadata": {},
     "output_type": "display_data"
    }
   ],
   "source": [
    "# 이미지 파일 경로\n",
    "image_path = '키워드모델.JPG'\n",
    "image_path2 = 'Prophet 예시.JPG'\n",
    "image_path3 = '랜덤포레스트 예시.JPG'\n",
    "image_path4 = '고객 분류 모델.JPG'\n",
    "\n",
    "\n",
    "# 이미지 파일을 Base64로 인코딩\n",
    "with open(image_path, 'rb') as f:\n",
    "    encoded_image = base64.b64encode(f.read()).decode('utf-8')\n",
    "\n",
    "with open(image_path2, 'rb') as f:\n",
    "    encoded_image2 = base64.b64encode(f.read()).decode('utf-8')\n",
    "    \n",
    "with open(image_path3, 'rb') as f:\n",
    "    encoded_image3 = base64.b64encode(f.read()).decode('utf-8')\n",
    "\n",
    "with open(image_path4, 'rb') as f:\n",
    "    encoded_image4 = base64.b64encode(f.read()).decode('utf-8')\n",
    "\n",
    "# JupyterDash 앱 생성\n",
    "app = JupyterDash(__name__)\n",
    "\n",
    "# 첫번째 키워드모델\n",
    "top_layout = html.Div(\n",
    "    children=[\n",
    "        html.Div(\n",
    "            children=[\n",
    "                html.H2(\"키워드 예측 모델은 시계열 예측을 사용한다\"),\n",
    "                html.H3(\"키워드 별로 날짜에 따른 랭킹이 있다.\"),\n",
    "                html.H3(\"2018년 1월 ~ 2020년 8월의 월간 200등 데이터 사용\"),\n",
    "                html.H2(\"시계열 예측 라이브러리인 Prophet을 사용\")         \n",
    "            ],style={'width': '50%', 'height': '100%'}\n",
    "        ),\n",
    "        html.Div(\n",
    "            children=[\n",
    "                html.Img(src='data:image/png;base64,{}'.format(encoded_image2))\n",
    "],style={'width': '50%', 'height': '100%'}\n",
    "        )],\n",
    "style={'display': 'flex'}\n",
    ")\n",
    "\n",
    "# 하단 레이아웃 (1 공간)\n",
    "bottom_layout = html.Div([\n",
    "    html.Img(src='data:image/png;base64,{}'.format(encoded_image))\n",
    "])\n",
    "\n",
    "# 앱 레이아웃 설정\n",
    "app_layout1 = html.Div([\n",
    "    top_layout,  \n",
    "    bottom_layout  \n",
    "])\n",
    "\n",
    "# 두번째 고객분류 모델\n",
    "\n",
    "top_layout2 = html.Div(\n",
    "    children=[\n",
    "        html.Div(\n",
    "            children=[\n",
    "                html.H2(\"고객 분류 모델은 고객의 재구매할 가능성을 예측해서 고객을 분류한다.\"),\n",
    "                html.H3(\"1개월 내에 재구매  O => 1 변환\"),\n",
    "                html.H3(\"1개월 내에 재구매  X  => 0 변환\"),\n",
    "                html.H2(\"분류 모델인 RandomForest 와 GradientBoosting를 사용\")         \n",
    "            ],style={'width': '50%', 'height': '100%'}\n",
    "        ),\n",
    "        html.Div(\n",
    "            children=[\n",
    "                html.Img(src='data:image/png;base64,{}'.format(encoded_image3))\n",
    "],style={'width': '50%', 'height': '100%'}\n",
    "        )],\n",
    "style={'display': 'flex'}\n",
    ")\n",
    "\n",
    "# 하단 레이아웃 (1 공간)\n",
    "bottom_layout2 = html.Div([\n",
    "    html.Img(src='data:image/png;base64,{}'.format(encoded_image4))\n",
    "])\n",
    "\n",
    "\n",
    "app_layout2 = html.Div([\n",
    "    top_layout2,  \n",
    "    bottom_layout2 \n",
    "])\n",
    "\n",
    "# 앱 레이아웃 설정\n",
    "app.layout = html.Div([\n",
    "    app_layout1,  # 상단 레이아웃\n",
    "    app_layout2   # 하단 레이아웃\n",
    "])\n",
    "    \n",
    "# 앱 실행\n",
    "if __name__ == '__main__':\n",
    "    app.run_server(port=7790, mode = 'inline')"
   ]
  },
  {
   "cell_type": "code",
   "execution_count": null,
   "id": "7bc484e0-18f3-44c2-9c37-8834cde827bb",
   "metadata": {},
   "outputs": [],
   "source": []
  }
 ],
 "metadata": {
  "kernelspec": {
   "display_name": "Python 3 (ipykernel)",
   "language": "python",
   "name": "python3"
  },
  "language_info": {
   "codemirror_mode": {
    "name": "ipython",
    "version": 3
   },
   "file_extension": ".py",
   "mimetype": "text/x-python",
   "name": "python",
   "nbconvert_exporter": "python",
   "pygments_lexer": "ipython3",
   "version": "3.9.13"
  }
 },
 "nbformat": 4,
 "nbformat_minor": 5
}
