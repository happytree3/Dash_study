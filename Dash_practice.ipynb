{
 "cells": [
  {
   "cell_type": "markdown",
   "id": "7a7e2e9b-d57a-466f-9deb-3ea55a16c870",
   "metadata": {
    "jp-MarkdownHeadingCollapsed": true,
    "tags": []
   },
   "source": [
    "# 기본 Dash 연습"
   ]
  },
  {
   "cell_type": "code",
   "execution_count": 27,
   "id": "83c8022a-605d-43ec-b61b-c9ec94a9fd5e",
   "metadata": {},
   "outputs": [
    {
     "name": "stdout",
     "output_type": "stream",
     "text": [
      "Dash is running on http://127.0.0.1:8050/\n",
      "\n"
     ]
    },
    {
     "data": {
      "text/html": [
       "\n",
       "        <iframe\n",
       "            width=\"100%\"\n",
       "            height=\"650\"\n",
       "            src=\"http://127.0.0.1:8050/\"\n",
       "            frameborder=\"0\"\n",
       "            allowfullscreen\n",
       "            \n",
       "        ></iframe>\n",
       "        "
      ],
      "text/plain": [
       "<IPython.lib.display.IFrame at 0x22e5a926d00>"
      ]
     },
     "metadata": {},
     "output_type": "display_data"
    }
   ],
   "source": [
    "from dash import Dash, dcc, html, Input, Output\n",
    "import plotly.express as px\n",
    "import pandas as pd\n",
    "from jupyter_dash import JupyterDash\n",
    "\n",
    "df = px.data.iris()\n",
    "\n",
    "fig = px.scatter(df, x=\"sepal_length\", y=\"sepal_width\", \n",
    "                  color=\"species\")\n",
    "\n",
    "app = JupyterDash(__name__)\n",
    "\n",
    "app.layout = html.Div(children=[\n",
    "    html.H1(children=\"그래프 사진\"),\n",
    "    html.H2(children=\"오호?\"),\n",
    "    html.H3(children=\"이건?\"),\n",
    "    html.Div(children='연습용입니다.'),\n",
    "    dcc.Graph(\n",
    "        id='graph1',\n",
    "        figure=fig\n",
    "    )\n",
    "])\n",
    "\n",
    "if __name__ == '__main__':\n",
    "    app.run_server(debug=True, mode = 'inline')"
   ]
  },
  {
   "cell_type": "code",
   "execution_count": 13,
   "id": "09a524d8-a7db-4e89-a6b6-0122a8486e1b",
   "metadata": {},
   "outputs": [
    {
     "name": "stdout",
     "output_type": "stream",
     "text": [
      "Dash is running on http://127.0.0.1:8050/\n",
      "\n"
     ]
    },
    {
     "data": {
      "text/html": [
       "\n",
       "        <iframe\n",
       "            width=\"100%\"\n",
       "            height=\"650\"\n",
       "            src=\"http://127.0.0.1:8050/\"\n",
       "            frameborder=\"0\"\n",
       "            allowfullscreen\n",
       "            \n",
       "        ></iframe>\n",
       "        "
      ],
      "text/plain": [
       "<IPython.lib.display.IFrame at 0x22e549e16d0>"
      ]
     },
     "metadata": {},
     "output_type": "display_data"
    }
   ],
   "source": [
    "app = JupyterDash(__name__)\n",
    "\n",
    "app.layout = html.Div([\n",
    "    html.H1(\"안녕하세요\"),\n",
    "    dcc.Graph(id ='graph')\n",
    "])\n",
    "\n",
    "if __name__ == '__main__':\n",
    "    app.run_server(mode = 'inline')"
   ]
  },
  {
   "cell_type": "code",
   "execution_count": 43,
   "id": "fcd9fec5-3a7d-48a8-b8e4-8e68b56f7968",
   "metadata": {},
   "outputs": [
    {
     "name": "stdout",
     "output_type": "stream",
     "text": [
      "Dash is running on http://127.0.0.1:8050/\n",
      "\n"
     ]
    },
    {
     "data": {
      "text/html": [
       "\n",
       "        <iframe\n",
       "            width=\"100%\"\n",
       "            height=\"650\"\n",
       "            src=\"http://127.0.0.1:8050/\"\n",
       "            frameborder=\"0\"\n",
       "            allowfullscreen\n",
       "            \n",
       "        ></iframe>\n",
       "        "
      ],
      "text/plain": [
       "<IPython.lib.display.IFrame at 0x22e5a90e8e0>"
      ]
     },
     "metadata": {},
     "output_type": "display_data"
    }
   ],
   "source": [
    "external_stylesheets = ['https://codepen.io/chriddyp/pen/bWLwgP.css']\n",
    "\n",
    "app = JupyterDash(__name__, external_stylesheets=external_stylesheets)\n",
    "\n",
    "app.layout = html.Div(children=[\n",
    "    html.H1(children=\"연습용입니다\"),\n",
    "    html.Div(children=\"아하?\"),\n",
    "    dcc.Graph(id='graph5',\n",
    "              figure=fig)\n",
    "])\n",
    "\n",
    "if __name__ == '__main__':\n",
    "    app.run_server(mode='inline')"
   ]
  },
  {
   "cell_type": "markdown",
   "id": "0f4f38bb-944b-4a0a-8b7c-2226510d650b",
   "metadata": {
    "jp-MarkdownHeadingCollapsed": true,
    "tags": []
   },
   "source": [
    "# 색깔 추가하는 예시"
   ]
  },
  {
   "cell_type": "code",
   "execution_count": 25,
   "id": "08f84edc-d77b-4202-868f-83ab3267b7b3",
   "metadata": {},
   "outputs": [
    {
     "name": "stdout",
     "output_type": "stream",
     "text": [
      "Dash is running on http://127.0.0.1:8050/\n",
      "\n"
     ]
    },
    {
     "data": {
      "text/html": [
       "\n",
       "        <iframe\n",
       "            width=\"100%\"\n",
       "            height=\"650\"\n",
       "            src=\"http://127.0.0.1:8050/\"\n",
       "            frameborder=\"0\"\n",
       "            allowfullscreen\n",
       "            \n",
       "        ></iframe>\n",
       "        "
      ],
      "text/plain": [
       "<IPython.lib.display.IFrame at 0x22e5a93f160>"
      ]
     },
     "metadata": {},
     "output_type": "display_data"
    }
   ],
   "source": [
    "# app = JupyterDash(__name__)\n",
    "\n",
    "# colors = {\n",
    "#     'background': '#111111',\n",
    "#     'text': '#7FDBFF'\n",
    "# }\n",
    "\n",
    "# fig.update_layout(\n",
    "#     plot_bgcolor = colors['background'],\n",
    "#     paper_bgcolor = colors['background'],\n",
    "#     font_color=colors['text']\n",
    "# )\n",
    "\n",
    "# app.layout = html.Div(style = {'backgroundColor': colors['background']},\n",
    "#                       children=[\n",
    "#                           html.H1(children = \"연습용 제목\",\n",
    "#                                  style = {'textAlign':'center',\n",
    "#                                           'color': colors['text']}),\n",
    "#                           dcc.Graph(id='example-graph',\n",
    "#                                    figure = fig)\n",
    "#                       ])\n",
    "\n",
    "# if __name__ =='__main__':\n",
    "#     app.run_server(debug=True, mode='inline')"
   ]
  },
  {
   "cell_type": "markdown",
   "id": "eaa791b7-56af-48b1-bbf3-505420910396",
   "metadata": {
    "jp-MarkdownHeadingCollapsed": true,
    "tags": []
   },
   "source": [
    "# 테이블 추가"
   ]
  },
  {
   "cell_type": "code",
   "execution_count": 41,
   "id": "460860bf-415d-4d69-94a2-e8aa74afed89",
   "metadata": {},
   "outputs": [
    {
     "name": "stdout",
     "output_type": "stream",
     "text": [
      "Dash is running on http://127.0.0.1:8050/\n",
      "\n"
     ]
    },
    {
     "data": {
      "text/html": [
       "\n",
       "        <iframe\n",
       "            width=\"100%\"\n",
       "            height=\"650\"\n",
       "            src=\"http://127.0.0.1:8050/\"\n",
       "            frameborder=\"0\"\n",
       "            allowfullscreen\n",
       "            \n",
       "        ></iframe>\n",
       "        "
      ],
      "text/plain": [
       "<IPython.lib.display.IFrame at 0x22e5a5887f0>"
      ]
     },
     "metadata": {},
     "output_type": "display_data"
    }
   ],
   "source": [
    "import dash\n",
    "import dash_table\n",
    "import pandas as pd\n",
    "from jupyter_dash import JupyterDash\n",
    "\n",
    "# Dash 애플리케이션 생성\n",
    "app = JupyterDash(__name__)\n",
    "\n",
    "# 데이터 생성\n",
    "data = {'Name': ['John', 'Alice', 'Bob'],\n",
    "        'Age': [25, 28, 22],\n",
    "        'City': ['New York', 'Los Angeles', 'Chicago']}\n",
    "df = pd.DataFrame(data)\n",
    "\n",
    "# 표 컴포넌트 생성\n",
    "table = dash_table.DataTable(\n",
    "    id='my-table',  # 표의 고유 ID\n",
    "    data=df.to_dict('records'),  # 데이터 프레임을 딕셔너리 형태로 변환하여 전달\n",
    "    columns=[{'id': col, 'name': col} for col in df.columns],  # 열 이름 설정\n",
    ")\n",
    "\n",
    "# 애플리케이션 레이아웃 설정\n",
    "app.layout = dash.html.Div(children=[table])\n",
    "\n",
    "# 애플리케이션 실행\n",
    "if __name__ == '__main__':\n",
    "    app.run_server(mode='inline')"
   ]
  },
  {
   "cell_type": "code",
   "execution_count": 44,
   "id": "c6990a29-faaa-42c2-bdcb-43f95b1caa09",
   "metadata": {},
   "outputs": [
    {
     "name": "stdout",
     "output_type": "stream",
     "text": [
      "Dash is running on http://127.0.0.1:8050/\n",
      "\n"
     ]
    },
    {
     "data": {
      "text/html": [
       "\n",
       "        <iframe\n",
       "            width=\"100%\"\n",
       "            height=\"650\"\n",
       "            src=\"http://127.0.0.1:8050/\"\n",
       "            frameborder=\"0\"\n",
       "            allowfullscreen\n",
       "            \n",
       "        ></iframe>\n",
       "        "
      ],
      "text/plain": [
       "<IPython.lib.display.IFrame at 0x22e5a780a90>"
      ]
     },
     "metadata": {},
     "output_type": "display_data"
    }
   ],
   "source": [
    "df = pd.read_csv('https://gist.githubusercontent.com/chriddyp/c78bf172206ce24f77d6363a2d754b59/raw/c353e8ef842413cae56ae3920b8fd78468aa4cb2/usa-agricultural-exports-2011.csv')\n",
    "\n",
    "\n",
    "def generate_table(dataframe, max_rows=10):\n",
    "    return html.Table([\n",
    "        html.Thead(\n",
    "            html.Tr([html.Th(col) for col in dataframe.columns])\n",
    "        ),\n",
    "        html.Tbody([\n",
    "            html.Tr([\n",
    "                html.Td(dataframe.iloc[i][col]) for col in dataframe.columns\n",
    "            ]) for i in range(min(len(dataframe), max_rows))\n",
    "        ])\n",
    "    ])\n",
    "\n",
    "\n",
    "external_stylesheets = ['https://codepen.io/chriddyp/pen/bWLwgP.css']\n",
    "\n",
    "# app = Dash(__name__, external_stylesheets=external_stylesheets)\n",
    "app = JupyterDash(__name__, external_stylesheets=external_stylesheets)\n",
    "\n",
    "app.layout = html.Div(children=[\n",
    "    html.H4(children='US Agriculture Exports (2011)'),\n",
    "    generate_table(df)\n",
    "])\n",
    "\n",
    "if __name__ == '__main__':\n",
    "    app.run_server(debug=True, mode='inline')"
   ]
  },
  {
   "cell_type": "markdown",
   "id": "dd082576-823a-477e-a856-7600461b1efe",
   "metadata": {
    "jp-MarkdownHeadingCollapsed": true,
    "tags": []
   },
   "source": [
    "# Dropdown 사용예시"
   ]
  },
  {
   "cell_type": "code",
   "execution_count": 73,
   "id": "24a10020-7e4b-441a-bc13-51cd4dcb3eb4",
   "metadata": {
    "tags": []
   },
   "outputs": [
    {
     "name": "stdout",
     "output_type": "stream",
     "text": [
      "Dash is running on http://127.0.0.1:8050/\n",
      "\n"
     ]
    },
    {
     "data": {
      "text/html": [
       "\n",
       "        <iframe\n",
       "            width=\"100%\"\n",
       "            height=\"650\"\n",
       "            src=\"http://127.0.0.1:8050/\"\n",
       "            frameborder=\"0\"\n",
       "            allowfullscreen\n",
       "            \n",
       "        ></iframe>\n",
       "        "
      ],
      "text/plain": [
       "<IPython.lib.display.IFrame at 0x22e5a90e0a0>"
      ]
     },
     "metadata": {},
     "output_type": "display_data"
    }
   ],
   "source": [
    "app = JupyterDash(__name__)\n",
    "\n",
    "app.layout = html.Div([\n",
    "    dcc.Dropdown(['New York City', 'Montréal', 'San Francisco'], 'Montréal')\n",
    "])\n",
    "\n",
    "if __name__ == '__main__':\n",
    "    app.run_server(debug=True, mode = 'inline')"
   ]
  },
  {
   "cell_type": "code",
   "execution_count": 72,
   "id": "fff24b49-4986-4b97-a0c9-8516ff8a7f65",
   "metadata": {
    "tags": []
   },
   "outputs": [
    {
     "name": "stdout",
     "output_type": "stream",
     "text": [
      "Dash is running on http://127.0.0.1:8050/\n",
      "\n"
     ]
    },
    {
     "data": {
      "text/html": [
       "\n",
       "        <iframe\n",
       "            width=\"100%\"\n",
       "            height=\"650\"\n",
       "            src=\"http://127.0.0.1:8050/\"\n",
       "            frameborder=\"0\"\n",
       "            allowfullscreen\n",
       "            \n",
       "        ></iframe>\n",
       "        "
      ],
      "text/plain": [
       "<IPython.lib.display.IFrame at 0x22e5aaca250>"
      ]
     },
     "metadata": {},
     "output_type": "display_data"
    }
   ],
   "source": [
    "app = JupyterDash(__name__)\n",
    "\n",
    "app.layout = html.Div([\n",
    "    dcc.Dropdown(['New York City', 'Montréal', 'San Francisco'], 'Montréal', multi=True)\n",
    "])\n",
    "\n",
    "if __name__ == '__main__':\n",
    "    app.run_server(mode = 'inline')"
   ]
  },
  {
   "cell_type": "code",
   "execution_count": 51,
   "id": "5accabb1-7573-40fc-b8b9-1d6be3a398c4",
   "metadata": {},
   "outputs": [
    {
     "name": "stdout",
     "output_type": "stream",
     "text": [
      "Dash is running on http://127.0.0.1:8050/\n",
      "\n"
     ]
    },
    {
     "data": {
      "text/html": [
       "\n",
       "        <iframe\n",
       "            width=\"100%\"\n",
       "            height=\"650\"\n",
       "            src=\"http://127.0.0.1:8050/\"\n",
       "            frameborder=\"0\"\n",
       "            allowfullscreen\n",
       "            \n",
       "        ></iframe>\n",
       "        "
      ],
      "text/plain": [
       "<IPython.lib.display.IFrame at 0x22e5aa7ac10>"
      ]
     },
     "metadata": {},
     "output_type": "display_data"
    }
   ],
   "source": [
    "app = JupyterDash(__name__)\n",
    "\n",
    "app.layout = html.Div([\n",
    "    dcc.Dropdown(df.columns)\n",
    "])\n",
    "\n",
    "if __name__ == '__main__':\n",
    "    app.run_server(debug=True, mode = 'inline')"
   ]
  },
  {
   "cell_type": "markdown",
   "id": "0b3a755c-9e44-4017-a08a-340963364d7c",
   "metadata": {
    "jp-MarkdownHeadingCollapsed": true,
    "tags": []
   },
   "source": [
    "# slider 슬라이더"
   ]
  },
  {
   "cell_type": "code",
   "execution_count": 56,
   "id": "eaf1ef32-ae3a-46ea-a474-51c1c14294c3",
   "metadata": {
    "collapsed": true,
    "jupyter": {
     "outputs_hidden": true
    },
    "tags": []
   },
   "outputs": [
    {
     "name": "stdout",
     "output_type": "stream",
     "text": [
      "Dash is running on http://127.0.0.1:8050/\n",
      "\n"
     ]
    },
    {
     "data": {
      "text/html": [
       "\n",
       "        <iframe\n",
       "            width=\"100%\"\n",
       "            height=\"650\"\n",
       "            src=\"http://127.0.0.1:8050/\"\n",
       "            frameborder=\"0\"\n",
       "            allowfullscreen\n",
       "            \n",
       "        ></iframe>\n",
       "        "
      ],
      "text/plain": [
       "<IPython.lib.display.IFrame at 0x22e5a94b2b0>"
      ]
     },
     "metadata": {},
     "output_type": "display_data"
    }
   ],
   "source": [
    "app = JupyterDash(__name__)\n",
    "\n",
    "app.layout = html.Div([\n",
    "    dcc.Slider(-5, 10, 1, value=-3)\n",
    "])\n",
    "\n",
    "if __name__ == '__main__':\n",
    "    app.run_server(mode = 'inline')"
   ]
  },
  {
   "cell_type": "markdown",
   "id": "92349dcf-2611-4cd8-aa54-c8e8f2d33e36",
   "metadata": {
    "jp-MarkdownHeadingCollapsed": true,
    "tags": []
   },
   "source": [
    "# Markdown 마크다운 "
   ]
  },
  {
   "cell_type": "code",
   "execution_count": 58,
   "id": "ccf93efe-3406-4838-be03-d8e90bc48114",
   "metadata": {
    "collapsed": true,
    "jupyter": {
     "outputs_hidden": true
    },
    "tags": []
   },
   "outputs": [
    {
     "name": "stdout",
     "output_type": "stream",
     "text": [
      "Dash is running on http://127.0.0.1:8050/\n",
      "\n"
     ]
    },
    {
     "data": {
      "text/html": [
       "\n",
       "        <iframe\n",
       "            width=\"100%\"\n",
       "            height=\"650\"\n",
       "            src=\"http://127.0.0.1:8050/\"\n",
       "            frameborder=\"0\"\n",
       "            allowfullscreen\n",
       "            \n",
       "        ></iframe>\n",
       "        "
      ],
      "text/plain": [
       "<IPython.lib.display.IFrame at 0x22e5aacac40>"
      ]
     },
     "metadata": {},
     "output_type": "display_data"
    }
   ],
   "source": [
    "app = JupyterDash(__name__)\n",
    "\n",
    "markdown_text = '''\n",
    "### Dash and Markdown\n",
    "\n",
    "Dash apps can be written in Markdown.\n",
    "> Dash uses the [CommonMark](http://commonmark.org/)\n",
    "specification of Markdown.\n",
    "Check out their [60 Second Markdown Tutorial](http://commonmark.org/help/)\n",
    "if this is your first introduction to Markdown!\n",
    "'''\n",
    "\n",
    "app.layout = html.Div(children=[\n",
    "    html.H1(children = \"HTML components\"),\n",
    "    html.Div(children = \"작성 연습\"),\n",
    "    dcc.Markdown(children=markdown_text)\n",
    "])\n",
    "\n",
    "if __name__ == '__main__':\n",
    "    app.run_server(mode='inline')"
   ]
  },
  {
   "cell_type": "markdown",
   "id": "fb1ee119-2f0c-42a9-975b-f6dbf43d08ba",
   "metadata": {
    "jp-MarkdownHeadingCollapsed": true,
    "tags": []
   },
   "source": [
    "# 이것저것"
   ]
  },
  {
   "cell_type": "code",
   "execution_count": 62,
   "id": "9973d22b-e46e-4eee-815a-1f489b155cb1",
   "metadata": {
    "tags": []
   },
   "outputs": [
    {
     "name": "stdout",
     "output_type": "stream",
     "text": [
      "Dash is running on http://127.0.0.1:8050/\n",
      "\n"
     ]
    },
    {
     "data": {
      "text/html": [
       "\n",
       "        <iframe\n",
       "            width=\"100%\"\n",
       "            height=\"650\"\n",
       "            src=\"http://127.0.0.1:8050/\"\n",
       "            frameborder=\"0\"\n",
       "            allowfullscreen\n",
       "            \n",
       "        ></iframe>\n",
       "        "
      ],
      "text/plain": [
       "<IPython.lib.display.IFrame at 0x22e5a8be940>"
      ]
     },
     "metadata": {},
     "output_type": "display_data"
    }
   ],
   "source": [
    "app = JupyterDash(__name__)\n",
    "\n",
    "app.layout = html.Div([\n",
    "    dcc.Checklist(['New York City', 'Montréal', 'San Francisco'],\n",
    "                  ['Montréal', 'San Francisco'],\n",
    "                 #inline=True\n",
    "                 )\n",
    "])\n",
    "\n",
    "if __name__ == '__main__':\n",
    "    app.run_server(mode = 'inline')"
   ]
  },
  {
   "cell_type": "code",
   "execution_count": 64,
   "id": "57c56f58-dd62-4aca-8169-717c61e10182",
   "metadata": {
    "collapsed": true,
    "jupyter": {
     "outputs_hidden": true
    },
    "tags": []
   },
   "outputs": [
    {
     "name": "stdout",
     "output_type": "stream",
     "text": [
      "Dash is running on http://127.0.0.1:8050/\n",
      "\n"
     ]
    },
    {
     "data": {
      "text/html": [
       "\n",
       "        <iframe\n",
       "            width=\"100%\"\n",
       "            height=\"650\"\n",
       "            src=\"http://127.0.0.1:8050/\"\n",
       "            frameborder=\"0\"\n",
       "            allowfullscreen\n",
       "            \n",
       "        ></iframe>\n",
       "        "
      ],
      "text/plain": [
       "<IPython.lib.display.IFrame at 0x22e5a90e2b0>"
      ]
     },
     "metadata": {},
     "output_type": "display_data"
    }
   ],
   "source": [
    "# Create a Dash app instance\n",
    "app = JupyterDash(__name__)\n",
    "\n",
    "# Define the layout of the dashboard\n",
    "app.layout = html.Div(children=[\n",
    "\n",
    "    # Insert the first graph\n",
    "    dcc.Graph(\n",
    "        id='graph1',  # Specify the ID of the graph component\n",
    "        figure={\n",
    "            'data': [\n",
    "                # Specify the data for the first graph\n",
    "            ],\n",
    "            'layout': {\n",
    "                # Specify the layout for the first graph\n",
    "            }\n",
    "        }\n",
    "    ),\n",
    "\n",
    "    # Insert the second graph\n",
    "    dcc.Graph(\n",
    "        id='graph2',  # Specify the ID of the graph component\n",
    "        figure={\n",
    "            'data': [\n",
    "                # Specify the data for the second graph\n",
    "            ],\n",
    "            'layout': {\n",
    "                # Specify the layout for the second graph\n",
    "            }\n",
    "        }\n",
    "    )\n",
    "\n",
    "])\n",
    "\n",
    "# Run the app\n",
    "if __name__ == '__main__':\n",
    "    app.run_server(mode = 'inline')"
   ]
  },
  {
   "cell_type": "code",
   "execution_count": 65,
   "id": "cec9d347-31b9-48f1-b23e-fe4155654789",
   "metadata": {},
   "outputs": [
    {
     "name": "stdout",
     "output_type": "stream",
     "text": [
      "Dash is running on http://127.0.0.1:8050/\n",
      "\n"
     ]
    },
    {
     "data": {
      "text/html": [
       "\n",
       "        <iframe\n",
       "            width=\"100%\"\n",
       "            height=\"650\"\n",
       "            src=\"http://127.0.0.1:8050/\"\n",
       "            frameborder=\"0\"\n",
       "            allowfullscreen\n",
       "            \n",
       "        ></iframe>\n",
       "        "
      ],
      "text/plain": [
       "<IPython.lib.display.IFrame at 0x22e5a88a070>"
      ]
     },
     "metadata": {},
     "output_type": "display_data"
    }
   ],
   "source": [
    "app = JupyterDash(__name__)\n",
    "\n",
    "# 첫 번째 공간\n",
    "div1 = html.Div(\n",
    "    children=[\n",
    "        # 컴포넌트1 추가\n",
    "        dcc.Graph(\n",
    "            figure={\n",
    "                'data': [\n",
    "                    {'x': [1, 2, 3], 'y': [4, 1, 2], 'type': 'bar', 'name': 'A'},\n",
    "                    {'x': [1, 2, 3], 'y': [2, 4, 5], 'type': 'bar', 'name': 'B'},\n",
    "                ],\n",
    "                'layout': {\n",
    "                    'title': '첫 번째 공간',\n",
    "                },\n",
    "            }\n",
    "        )\n",
    "    ],\n",
    "    style={'width': '50%', 'display': 'inline-block'}  # 첫 번째 공간의 너비와 배치 설정\n",
    ")\n",
    "\n",
    "# 두 번째 공간\n",
    "div2 = html.Div(\n",
    "    children=[\n",
    "        # 컴포넌트2 추가\n",
    "        dcc.Graph(\n",
    "            figure={\n",
    "                'data': [\n",
    "                    {'x': [1, 2, 3], 'y': [4, 1, 2], 'type': 'bar', 'name': 'C'},\n",
    "                    {'x': [1, 2, 3], 'y': [2, 4, 5], 'type': 'bar', 'name': 'D'},\n",
    "                ],\n",
    "                'layout': {\n",
    "                    'title': '두 번째 공간',\n",
    "                },\n",
    "            }\n",
    "        )\n",
    "    ],\n",
    "    style={'width': '50%', 'display': 'inline-block'}  # 두 번째 공간의 너비와 배치 설정\n",
    ")\n",
    "\n",
    "# app.layout에 첫 번째와 두 번째 공간 추가\n",
    "app.layout = html.Div(children=[div1, div2])\n",
    "\n",
    "if __name__ == '__main__':\n",
    "    app.run_server(mode= 'inline')"
   ]
  },
  {
   "cell_type": "code",
   "execution_count": 66,
   "id": "f1f0caf4-cc08-4416-bf39-19ee74e791df",
   "metadata": {},
   "outputs": [
    {
     "name": "stdout",
     "output_type": "stream",
     "text": [
      "Dash is running on http://127.0.0.1:8050/\n",
      "\n"
     ]
    },
    {
     "data": {
      "text/html": [
       "\n",
       "        <iframe\n",
       "            width=\"100%\"\n",
       "            height=\"650\"\n",
       "            src=\"http://127.0.0.1:8050/\"\n",
       "            frameborder=\"0\"\n",
       "            allowfullscreen\n",
       "            \n",
       "        ></iframe>\n",
       "        "
      ],
      "text/plain": [
       "<IPython.lib.display.IFrame at 0x22e58c13520>"
      ]
     },
     "metadata": {},
     "output_type": "display_data"
    }
   ],
   "source": [
    "app = JupyterDash(__name__)\n",
    "\n",
    "# 위쪽 공간\n",
    "top_div = html.Div(\n",
    "    children=[\n",
    "        # 컴포넌트1 추가\n",
    "        dcc.Graph(\n",
    "            figure={\n",
    "                'data': [\n",
    "                    {'x': [1, 2, 3], 'y': [4, 1, 2], 'type': 'bar', 'name': 'A'},\n",
    "                    {'x': [1, 2, 3], 'y': [2, 4, 5], 'type': 'bar', 'name': 'B'},\n",
    "                ],\n",
    "                'layout': {\n",
    "                    'title': '위쪽 공간',\n",
    "                },\n",
    "            }\n",
    "        )\n",
    "    ]\n",
    ")\n",
    "\n",
    "# 아래쪽 공간\n",
    "bottom_div = html.Div(\n",
    "    children=[\n",
    "        # 컴포넌트2 추가\n",
    "        dcc.Graph(\n",
    "            figure={\n",
    "                'data': [\n",
    "                    {'x': [1, 2, 3], 'y': [4, 1, 2], 'type': 'bar', 'name': 'C'},\n",
    "                    {'x': [1, 2, 3], 'y': [2, 4, 5], 'type': 'bar', 'name': 'D'},\n",
    "                ],\n",
    "                'layout': {\n",
    "                    'title': '아래쪽 공간',\n",
    "                },\n",
    "            }\n",
    "        )\n",
    "    ]\n",
    ")\n",
    "\n",
    "# app.layout에 위쪽과 아래쪽 공간 추가\n",
    "app.layout = html.Div(children=[top_div, bottom_div])\n",
    "\n",
    "if __name__ == '__main__':\n",
    "    app.run_server(mode='inline')"
   ]
  },
  {
   "cell_type": "code",
   "execution_count": 70,
   "id": "571b4f67-7435-4646-80fd-c363095a8d54",
   "metadata": {},
   "outputs": [
    {
     "name": "stdout",
     "output_type": "stream",
     "text": [
      "Dash is running on http://127.0.0.1:8050/\n",
      "\n"
     ]
    },
    {
     "data": {
      "text/html": [
       "\n",
       "        <iframe\n",
       "            width=\"100%\"\n",
       "            height=\"650\"\n",
       "            src=\"http://127.0.0.1:8050/\"\n",
       "            frameborder=\"0\"\n",
       "            allowfullscreen\n",
       "            \n",
       "        ></iframe>\n",
       "        "
      ],
      "text/plain": [
       "<IPython.lib.display.IFrame at 0x22e5aba26d0>"
      ]
     },
     "metadata": {},
     "output_type": "display_data"
    }
   ],
   "source": [
    "app = JupyterDash(__name__)\n",
    "\n",
    "# 가장 바깥쪽 공간\n",
    "app.layout = html.Div(\n",
    "    children=[\n",
    "        # 위쪽 공간\n",
    "        html.Div(\n",
    "            children=[\n",
    "                # 컴포넌트1 추가\n",
    "                html.H1('위쪽 공간'),\n",
    "                html.P('위쪽 공간의 내용'),\n",
    "            ],\n",
    "            style={'border': '1px solid red'}  # 스타일 설정 예시\n",
    "        ),\n",
    "        # 아래쪽 공간\n",
    "        html.Div(\n",
    "            children=[\n",
    "                # 컴포넌트2 추가\n",
    "                html.H1('아래쪽 공간'),\n",
    "                html.P('아래쪽 공간의 내용'),\n",
    "            ],\n",
    "            style={'border': '1px solid blue'}  # 스타일 설정 예시\n",
    "        ),\n",
    "        dcc.Graph(\n",
    "            id='graph7',\n",
    "            figure=fig)\n",
    "    ],\n",
    "    style={'display': 'flex'}  # 스타일 설정 예시\n",
    ")\n",
    "\n",
    "\n",
    "if __name__ == '__main__':\n",
    "    app.run_server(mode='inline')"
   ]
  },
  {
   "cell_type": "code",
   "execution_count": 71,
   "id": "73b68e3b-47d6-4478-a9c2-619ad3847b24",
   "metadata": {},
   "outputs": [
    {
     "name": "stdout",
     "output_type": "stream",
     "text": [
      "Dash is running on http://127.0.0.1:8050/\n",
      "\n"
     ]
    },
    {
     "data": {
      "text/html": [
       "\n",
       "        <iframe\n",
       "            width=\"100%\"\n",
       "            height=\"650\"\n",
       "            src=\"http://127.0.0.1:8050/\"\n",
       "            frameborder=\"0\"\n",
       "            allowfullscreen\n",
       "            \n",
       "        ></iframe>\n",
       "        "
      ],
      "text/plain": [
       "<IPython.lib.display.IFrame at 0x22e5a9ebaf0>"
      ]
     },
     "metadata": {},
     "output_type": "display_data"
    }
   ],
   "source": [
    "app = JupyterDash(__name__)\n",
    "\n",
    "# 레이아웃 정의\n",
    "app.layout = html.Div(\n",
    "    children=[\n",
    "        # 상단 왼쪽 그래프\n",
    "        html.Div(\n",
    "            children=[\n",
    "                dcc.Graph(\n",
    "                    figure={\n",
    "                        'data': [{'x': [1, 2, 3], 'y': [4, 1, 2], 'type': 'bar', 'name': '그래프1'}],\n",
    "                        'layout': {'title': '그래프 1'}\n",
    "                    }\n",
    "                )\n",
    "            ],\n",
    "            style={'width': '50%', 'display': 'inline-block'}  # 50% 너비로 설정\n",
    "        ),\n",
    "\n",
    "        # 상단 오른쪽 그래프\n",
    "        html.Div(\n",
    "            children=[\n",
    "                dcc.Graph(\n",
    "                    figure={\n",
    "                        'data': [{'x': [1, 2, 3], 'y': [2, 4, 1], 'type': 'bar', 'name': '그래프2'}],\n",
    "                        'layout': {'title': '그래프 2'}\n",
    "                    }\n",
    "                )\n",
    "            ],\n",
    "            style={'width': '50%', 'display': 'inline-block'}  # 50% 너비로 설정\n",
    "        ),\n",
    "\n",
    "        # 하단 왼쪽 그래프\n",
    "        html.Div(\n",
    "            children=[\n",
    "                dcc.Graph(\n",
    "                    figure={\n",
    "                        'data': [{'x': [1, 2, 3], 'y': [3, 2, 4], 'type': 'bar', 'name': '그래프3'}],\n",
    "                        'layout': {'title': '그래프 3'}\n",
    "                    }\n",
    "                )\n",
    "            ],\n",
    "            style={'width': '50%', 'display': 'inline-block'}  # 50% 너비로 설정\n",
    "        ),\n",
    "\n",
    "        # 하단 오른쪽 그래프\n",
    "        html.Div(\n",
    "            children=[\n",
    "                dcc.Graph(\n",
    "                    figure={\n",
    "                        'data': [{'x': [1, 2, 3], 'y': [4, 3, 1], 'type': 'bar', 'name': '그래프4'}],\n",
    "                        'layout': {'title': '그래프 4'}\n",
    "                    }\n",
    "                )\n",
    "            ],\n",
    "            style={'width': '50%', 'display': 'inline-block'}  # 50% 너비로 설정\n",
    "        ),\n",
    "    ],\n",
    "    style={'display': 'flex', 'flexWrap': 'wrap'}  # flexbox로 묶고 wrap 설정으로 줄 바꿈\n",
    ")\n",
    "\n",
    "if __name__ == '__main__':\n",
    "    app.run_server(mode='inline')"
   ]
  },
  {
   "cell_type": "code",
   "execution_count": 74,
   "id": "b9517f1a-9e21-4858-a06e-0187307629cf",
   "metadata": {},
   "outputs": [
    {
     "name": "stdout",
     "output_type": "stream",
     "text": [
      "Dash is running on http://127.0.0.1:8050/\n",
      "\n"
     ]
    },
    {
     "data": {
      "text/html": [
       "\n",
       "        <iframe\n",
       "            width=\"100%\"\n",
       "            height=\"650\"\n",
       "            src=\"http://127.0.0.1:8050/\"\n",
       "            frameborder=\"0\"\n",
       "            allowfullscreen\n",
       "            \n",
       "        ></iframe>\n",
       "        "
      ],
      "text/plain": [
       "<IPython.lib.display.IFrame at 0x22e5ab82cd0>"
      ]
     },
     "metadata": {},
     "output_type": "display_data"
    }
   ],
   "source": [
    "app = JupyterDash(__name__)\n",
    "\n",
    "# 예시를 위한 DataFrame 생성\n",
    "df = pd.DataFrame({'x': [1, 2, 3], 'y': [4, 1, 2]})\n",
    "\n",
    "# 드롭다운 옵션 설정\n",
    "dropdown_options = [\n",
    "    {'label': '옵션 1', 'value': 'option1'},\n",
    "    {'label': '옵션 2', 'value': 'option2'},\n",
    "    {'label': '옵션 3', 'value': 'option3'}\n",
    "]\n",
    "\n",
    "# 레이아웃 정의\n",
    "app.layout = html.Div(\n",
    "    children=[\n",
    "        # 드롭다운 컴포넌트\n",
    "        dcc.Dropdown(\n",
    "            id='dropdown',  # 드롭다운 컴포넌트의 ID\n",
    "            options=dropdown_options,  # 드롭다운 옵션\n",
    "            value='option1'  # 초기 선택 값\n",
    "        ),\n",
    "\n",
    "        # 그래프 컴포넌트\n",
    "        dcc.Graph(\n",
    "            id='graph'  # 그래프 컴포넌트의 ID\n",
    "        )\n",
    "    ]\n",
    ")\n",
    "\n",
    "# 콜백 함수 정의\n",
    "@app.callback(\n",
    "    Output('graph', 'figure'),  # 그래프의 figure 속성을 업데이트\n",
    "    Input('dropdown', 'value')  # 드롭다운의 value 속성을 입력으로 사용\n",
    ")\n",
    "def update_graph(selected_option):\n",
    "    # 선택된 드롭다운 옵션에 따라 그래프 데이터와 레이아웃을 업데이트\n",
    "    if selected_option == 'option1':\n",
    "        data = [{'x': df['x'], 'y': df['y'], 'type': 'bar', 'name': '그래프1'}]\n",
    "        layout = {'title': '그래프 1'}\n",
    "    elif selected_option == 'option2':\n",
    "        data = [{'x': df['x'], 'y': df['y']*2, 'type': 'bar', 'name': '그래프2'}]\n",
    "        layout = {'title': '그래프 2'}\n",
    "    else:\n",
    "        data = [{'x': df['x'], 'y': df['y']*3, 'type': 'bar', 'name': '그래프3'}]\n",
    "        layout = {'title': '그래프 3'}\n",
    "    \n",
    "    return {'data': data, 'layout': layout}  # 업데이트된 figure 반환\n",
    "\n",
    "if __name__ == '__main__':\n",
    "    app.run_server(mode='inline')"
   ]
  },
  {
   "cell_type": "code",
   "execution_count": 81,
   "id": "3e47bf06-a8ef-4993-9969-0dea6bcca5f9",
   "metadata": {},
   "outputs": [
    {
     "data": {
      "text/plain": [
       "DatetimeIndex(['2023-01-01', '2023-01-02', '2023-01-03', '2023-01-04',\n",
       "               '2023-01-05', '2023-01-06', '2023-01-07', '2023-01-08',\n",
       "               '2023-01-09', '2023-01-10',\n",
       "               ...\n",
       "               '2023-12-22', '2023-12-23', '2023-12-24', '2023-12-25',\n",
       "               '2023-12-26', '2023-12-27', '2023-12-28', '2023-12-29',\n",
       "               '2023-12-30', '2023-12-31'],\n",
       "              dtype='datetime64[ns]', length=365, freq='D')"
      ]
     },
     "execution_count": 81,
     "metadata": {},
     "output_type": "execute_result"
    }
   ],
   "source": [
    "pd.date_range('2023-01-01', '2023-12-31')"
   ]
  },
  {
   "cell_type": "code",
   "execution_count": 85,
   "id": "31cba3fb-96df-40f4-8b88-5c4b1b18bc95",
   "metadata": {},
   "outputs": [
    {
     "name": "stdout",
     "output_type": "stream",
     "text": [
      "Dash is running on http://127.0.0.1:8050/\n",
      "\n"
     ]
    },
    {
     "data": {
      "text/html": [
       "\n",
       "        <iframe\n",
       "            width=\"100%\"\n",
       "            height=\"650\"\n",
       "            src=\"http://127.0.0.1:8050/\"\n",
       "            frameborder=\"0\"\n",
       "            allowfullscreen\n",
       "            \n",
       "        ></iframe>\n",
       "        "
      ],
      "text/plain": [
       "<IPython.lib.display.IFrame at 0x22e5abb5a90>"
      ]
     },
     "metadata": {},
     "output_type": "display_data"
    }
   ],
   "source": [
    "app = JupyterDash(__name__)\n",
    "\n",
    "# 예시를 위한 DataFrame 생성\n",
    "df = pd.DataFrame({'날짜': pd.date_range('2023-01-01', '2023-12-31', freq='MS'), \n",
    "                   '판매량': [100, 150, 120, 180, 200, 250, 300, 350, 400, 450, 500, 550]})\n",
    "\n",
    "# 레이아웃 정의\n",
    "app.layout = html.Div(\n",
    "    children=[\n",
    "        # 슬라이더 컴포넌트\n",
    "        dcc.Slider(\n",
    "            id='slider',  # 슬라이더 컴포넌트의 ID\n",
    "            min=1,  # 최소값 설정\n",
    "            max=12,  # 최대값 설정\n",
    "            value=1,  # 초기 값 설정\n",
    "            marks={i: f'{i}월' for i in range(1, 13)},  # 라벨 설정\n",
    "            step=None  # 슬라이더 스텝 설정\n",
    "        ),\n",
    "\n",
    "        # 그래프 컴포넌트\n",
    "        dcc.Graph(\n",
    "            id='graph'  # 그래프 컴포넌트의 ID\n",
    "        )\n",
    "    ]\n",
    ")\n",
    "\n",
    "# 콜백 함수 정의\n",
    "@app.callback(\n",
    "    Output('graph', 'figure'),  # 그래프의 figure 속성을 업데이트\n",
    "    Input('slider', 'value')  # 슬라이더의 value 속성을 입력으로 사용\n",
    ")\n",
    "def update_graph(selected_month):\n",
    "    # 선택된 월에 따라 그래프 데이터와 레이아웃을 업데이트\n",
    "    filtered_df = df[df['날짜'].dt.month == selected_month]\n",
    "    data = [{'x': filtered_df['날짜'], 'y': filtered_df['판매량'], 'type': 'bar', 'name': '판매량'}]\n",
    "    layout = {'title': f'{selected_month}월 판매량 변화'}\n",
    "    \n",
    "    return {'data': data, 'layout': layout}  # 업데이트된 figure 반환\n",
    "\n",
    "if __name__ == '__main__':\n",
    "    app.run_server(mode = 'inline')"
   ]
  },
  {
   "cell_type": "code",
   "execution_count": null,
   "id": "fb58e6c5-136a-4942-8588-aeb3f6f78e02",
   "metadata": {},
   "outputs": [],
   "source": []
  }
 ],
 "metadata": {
  "kernelspec": {
   "display_name": "Python 3 (ipykernel)",
   "language": "python",
   "name": "python3"
  },
  "language_info": {
   "codemirror_mode": {
    "name": "ipython",
    "version": 3
   },
   "file_extension": ".py",
   "mimetype": "text/x-python",
   "name": "python",
   "nbconvert_exporter": "python",
   "pygments_lexer": "ipython3",
   "version": "3.9.13"
  }
 },
 "nbformat": 4,
 "nbformat_minor": 5
}
